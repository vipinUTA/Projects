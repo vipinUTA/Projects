{
 "cells": [
  {
   "cell_type": "code",
   "execution_count": 68,
   "metadata": {
    "collapsed": true
   },
   "outputs": [],
   "source": [
    "# import the required libraries \n",
    "import pandas as pd \n",
    "import smtplib \n",
    "import win32com\n",
    "from win32com import client\n",
    "import time\n",
    "import os\n",
    "import shutil\n",
    "import time\n",
    "import sys\n",
    "import datetime\n",
    "from datetime import datetime, timedelta\n"
   ]
  },
  {
   "cell_type": "code",
   "execution_count": 69,
   "metadata": {
    "collapsed": true
   },
   "outputs": [],
   "source": [
    "\n",
    "# reading the spreadsheet \n",
    "email_list = pd.read_excel('C:/Users/N724237/Downloads/gfg.xlsx') \n",
    "  "
   ]
  },
  {
   "cell_type": "code",
   "execution_count": 70,
   "metadata": {},
   "outputs": [
    {
     "name": "stdout",
     "output_type": "stream",
     "text": [
      "0    Vipin\n",
      "Name: NAME, dtype: object\n",
      "0    vipinc@aetna.com\n",
      "Name: EMAIL, dtype: object\n"
     ]
    }
   ],
   "source": [
    "\n",
    "  \n",
    "# getting the names and the emails \n",
    "my_name = 'Vipin'\n",
    "names = email_list['NAME'] \n",
    "emails = email_list['EMAIL'] \n",
    "print(names)\n",
    "print(emails)\n",
    "  "
   ]
  },
  {
   "cell_type": "code",
   "execution_count": 85,
   "metadata": {},
   "outputs": [
    {
     "name": "stdout",
     "output_type": "stream",
     "text": [
      "Vipin\n"
     ]
    }
   ],
   "source": [
    "\n",
    "# iterate through the records \n",
    "for i in range(len(emails)): \n",
    "  \n",
    "    # for every record get the name and the email addresses \n",
    "    name = names[i] \n",
    "    email = emails[i] \n",
    "    print(name)  \n",
    "    # the message to be emailed \n",
    "    message = \"Dear \" + name +\",\"\n",
    "  \n",
    "    ol = win32com.client.Dispatch('outlook.application')\n",
    "    mail = ol.CreateItem(0)\n",
    "    mail.To = email\n",
    "    mail.Subject = 'Invitation to join us at virtual roundtable for CISOs in manufacturing space '\n",
    "    mail.HTMLBody = message  +  '</p><br>Cybersecurity has emerged as the #1 initiative in the enterprise digital transformation, as per the findings from the infosys Digital Radar survey, there is an unprecedented amount of focus by boards and leadership teams on adopting innovative security strategies and solution like a simulation of attack, threat intel platform, threat hunting, orchestration, automation, adoption of AI,ML in security, clould-native security controls to build a sturdy cybersecurity program. </h2>'+ '</p><br>We are organizing a virtual roundtable discussion focused on CISOs in Manufacturing Industry to share how they are gearing up to navigate the challenging times like these. The theme of the virtual roundtable is being <b>\"Being resilient with Cybersecurity strategies for your Business\"</b> and it will be held on <u>Sep 24<sup>th</sup>, 2020(tentative(12:30-14:00 PM EST))</u> </h2>' + '</p><br>This is a closed door event and it will help you network and exchange some of the best practices being leverged by thought leaders and peers CISOs. Infosys leadership along with Jasmeet Singh (EVP & Global head - Manufacturing, Infosys) and Vishal Salvi (CISO - Infosys) will be there to share our vision and case studies in this space.</h2>'+ '</p><br>Looking forward to have you as a speaker for the roundtable discussion. </h2>' + 'Thanks,<br>' + my_name +  '<p><small>Director, Automative/Manufacturing<br>M: +1 913 378 3678<br>gavi.kumar@infosys.com' \n",
    "    mail.Send()\n",
    "\n",
    "\n"
   ]
  },
  {
   "cell_type": "code",
   "execution_count": null,
   "metadata": {
    "collapsed": true
   },
   "outputs": [],
   "source": []
  }
 ],
 "metadata": {
  "kernelspec": {
   "display_name": "Python 3",
   "language": "python",
   "name": "python3"
  },
  "language_info": {
   "codemirror_mode": {
    "name": "ipython",
    "version": 3
   },
   "file_extension": ".py",
   "mimetype": "text/x-python",
   "name": "python",
   "nbconvert_exporter": "python",
   "pygments_lexer": "ipython3",
   "version": "3.6.2"
  }
 },
 "nbformat": 4,
 "nbformat_minor": 2
}
